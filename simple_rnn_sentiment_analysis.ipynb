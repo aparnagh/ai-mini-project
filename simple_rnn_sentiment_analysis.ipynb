{
  "nbformat": 4,
  "nbformat_minor": 0,
  "metadata": {
    "colab": {
      "provenance": []
    },
    "kernelspec": {
      "name": "python3",
      "display_name": "Python 3"
    },
    "language_info": {
      "name": "python"
    },
    "accelerator": "GPU",
    "gpuClass": "standard"
  },
  "cells": [
    {
      "cell_type": "markdown",
      "source": [
        "This notebook creates an RNN for sentence classification. It can be ran by changing the runtime type to \"GPU\" and selecting \"run all\"."
      ],
      "metadata": {
        "id": "DkF4Ew00Ft6M"
      }
    },
    {
      "cell_type": "code",
      "source": [
        "!pip install -U torchtext==0.6.0"
      ],
      "metadata": {
        "colab": {
          "base_uri": "https://localhost:8080/"
        },
        "id": "tMINXIxt8VCS",
        "outputId": "211e46b8-135a-431c-9ec5-013686fb1125"
      },
      "execution_count": null,
      "outputs": [
        {
          "output_type": "stream",
          "name": "stdout",
          "text": [
            "Looking in indexes: https://pypi.org/simple, https://us-python.pkg.dev/colab-wheels/public/simple/\n",
            "Requirement already satisfied: torchtext==0.6.0 in /usr/local/lib/python3.10/dist-packages (0.6.0)\n",
            "Requirement already satisfied: sentencepiece in /usr/local/lib/python3.10/dist-packages (from torchtext==0.6.0) (0.1.99)\n",
            "Requirement already satisfied: tqdm in /usr/local/lib/python3.10/dist-packages (from torchtext==0.6.0) (4.65.0)\n",
            "Requirement already satisfied: requests in /usr/local/lib/python3.10/dist-packages (from torchtext==0.6.0) (2.27.1)\n",
            "Requirement already satisfied: numpy in /usr/local/lib/python3.10/dist-packages (from torchtext==0.6.0) (1.22.4)\n",
            "Requirement already satisfied: torch in /usr/local/lib/python3.10/dist-packages (from torchtext==0.6.0) (2.0.0+cu118)\n",
            "Requirement already satisfied: six in /usr/local/lib/python3.10/dist-packages (from torchtext==0.6.0) (1.16.0)\n",
            "Requirement already satisfied: certifi>=2017.4.17 in /usr/local/lib/python3.10/dist-packages (from requests->torchtext==0.6.0) (2022.12.7)\n",
            "Requirement already satisfied: urllib3<1.27,>=1.21.1 in /usr/local/lib/python3.10/dist-packages (from requests->torchtext==0.6.0) (1.26.15)\n",
            "Requirement already satisfied: idna<4,>=2.5 in /usr/local/lib/python3.10/dist-packages (from requests->torchtext==0.6.0) (3.4)\n",
            "Requirement already satisfied: charset-normalizer~=2.0.0 in /usr/local/lib/python3.10/dist-packages (from requests->torchtext==0.6.0) (2.0.12)\n",
            "Requirement already satisfied: typing-extensions in /usr/local/lib/python3.10/dist-packages (from torch->torchtext==0.6.0) (4.5.0)\n",
            "Requirement already satisfied: networkx in /usr/local/lib/python3.10/dist-packages (from torch->torchtext==0.6.0) (3.1)\n",
            "Requirement already satisfied: sympy in /usr/local/lib/python3.10/dist-packages (from torch->torchtext==0.6.0) (1.11.1)\n",
            "Requirement already satisfied: jinja2 in /usr/local/lib/python3.10/dist-packages (from torch->torchtext==0.6.0) (3.1.2)\n",
            "Requirement already satisfied: filelock in /usr/local/lib/python3.10/dist-packages (from torch->torchtext==0.6.0) (3.12.0)\n",
            "Requirement already satisfied: triton==2.0.0 in /usr/local/lib/python3.10/dist-packages (from torch->torchtext==0.6.0) (2.0.0)\n",
            "Requirement already satisfied: cmake in /usr/local/lib/python3.10/dist-packages (from triton==2.0.0->torch->torchtext==0.6.0) (3.25.2)\n",
            "Requirement already satisfied: lit in /usr/local/lib/python3.10/dist-packages (from triton==2.0.0->torch->torchtext==0.6.0) (16.0.2)\n",
            "Requirement already satisfied: MarkupSafe>=2.0 in /usr/local/lib/python3.10/dist-packages (from jinja2->torch->torchtext==0.6.0) (2.1.2)\n",
            "Requirement already satisfied: mpmath>=0.19 in /usr/local/lib/python3.10/dist-packages (from sympy->torch->torchtext==0.6.0) (1.3.0)\n"
          ]
        }
      ]
    },
    {
      "cell_type": "code",
      "execution_count": null,
      "metadata": {
        "id": "cLb1CSDYBeN-"
      },
      "outputs": [],
      "source": [
        "import torch\n",
        "from torchtext import data\n",
        "\n",
        "SEED = 1234\n",
        "\n",
        "torch.manual_seed(SEED)\n",
        "torch.backends.cudnn.deterministic = True\n",
        "\n",
        "TEXT = data.Field(tokenizer_language = 'en_core_web_sm')\n",
        "LABEL = data.LabelField(dtype = torch.float)"
      ]
    },
    {
      "cell_type": "code",
      "source": [
        "from torchtext import datasets\n",
        "\n",
        "train_data, test_data = datasets.IMDB.splits(TEXT, LABEL)\n",
        "\n",
        "print(f'Number of training examples: {len(train_data)}')\n",
        "print(f'Number of testing examples: {len(test_data)}')"
      ],
      "metadata": {
        "id": "42yUrJ_g4iWS",
        "colab": {
          "base_uri": "https://localhost:8080/"
        },
        "outputId": "91f1ac50-49f2-4e5d-ffc6-674d7d8eca18"
      },
      "execution_count": null,
      "outputs": [
        {
          "output_type": "stream",
          "name": "stdout",
          "text": [
            "Number of training examples: 25000\n",
            "Number of testing examples: 25000\n"
          ]
        }
      ]
    },
    {
      "cell_type": "markdown",
      "source": [
        "# Train/Validation Splits\n",
        "In the below cell, we can try different training and validation set splits. We test for splits of 0.2, 0.5, and 0.7 (the default)."
      ],
      "metadata": {
        "id": "lfbmynIlvvwA"
      }
    },
    {
      "cell_type": "code",
      "source": [
        "import random\n",
        "\n",
        "# Here we can try different train/valid splits\n",
        "# default is 0.7\n",
        "train_data, valid_data = train_data.split(random_state = random.seed(SEED))\n",
        "\n",
        "# train_data, valid_data = train_data.split(split_ratio = 0.2, random_state = random.seed(SEED))\n",
        "\n",
        "# train_data, valid_data = train_data.split(split_ratio = 0.5, random_state = random.seed(SEED))\n",
        "\n",
        "print(f'Number of training examples: {len(train_data)}')\n",
        "print(f'Number of validation examples: {len(valid_data)}')\n",
        "print(f'Number of testing examples: {len(test_data)}')"
      ],
      "metadata": {
        "id": "AMg7EBXs5mhv",
        "colab": {
          "base_uri": "https://localhost:8080/"
        },
        "outputId": "b83310d1-239b-46a4-f235-d83c192f56fa"
      },
      "execution_count": null,
      "outputs": [
        {
          "output_type": "stream",
          "name": "stdout",
          "text": [
            "Number of training examples: 17500\n",
            "Number of validation examples: 7500\n",
            "Number of testing examples: 25000\n"
          ]
        }
      ]
    },
    {
      "cell_type": "markdown",
      "source": [
        "Here, we need to build a vocabulary, and we are specifying that the maximum size is 25,000."
      ],
      "metadata": {
        "id": "kq8U2Vfe7Coq"
      }
    },
    {
      "cell_type": "code",
      "source": [
        "MAX_VOCAB_SIZE = 25_000\n",
        "\n",
        "TEXT.build_vocab(train_data, max_size = MAX_VOCAB_SIZE)\n",
        "LABEL.build_vocab(train_data)\n",
        "\n",
        "print(f\"Unique tokens in TEXT vocabulary: {len(TEXT.vocab)}\")\n",
        "print(f\"Unique tokens in LABEL vocabulary: {len(LABEL.vocab)}\")"
      ],
      "metadata": {
        "id": "kYMq-4DN7E2Y",
        "colab": {
          "base_uri": "https://localhost:8080/"
        },
        "outputId": "76cefe8d-0697-4336-cefc-a1bde5faade3"
      },
      "execution_count": null,
      "outputs": [
        {
          "output_type": "stream",
          "name": "stdout",
          "text": [
            "Unique tokens in TEXT vocabulary: 25002\n",
            "Unique tokens in LABEL vocabulary: 2\n"
          ]
        }
      ]
    },
    {
      "cell_type": "markdown",
      "source": [
        "# Batch Sizes\n",
        "In the below cell, we test different batch sizes of 32, 64, and 128 for the iterator."
      ],
      "metadata": {
        "id": "fpF4M57JDeqS"
      }
    },
    {
      "cell_type": "code",
      "source": [
        "# We can adjust the batch size here\n",
        "BATCH_SIZE = 64\n",
        "# BATCH_SIZE = 32\n",
        "# BATCH_SIZE = 128\n",
        "\n",
        "device = torch.device('cuda' if torch.cuda.is_available() else 'cpu')\n",
        "\n",
        "train_iterator, valid_iterator, test_iterator = data.BucketIterator.splits(\n",
        "    (train_data, valid_data, test_data),\n",
        "    batch_size = BATCH_SIZE,\n",
        "    device = device)"
      ],
      "metadata": {
        "id": "BpyER0di9DFR"
      },
      "execution_count": null,
      "outputs": []
    },
    {
      "cell_type": "code",
      "source": [
        "import torch.nn as nn\n",
        "\n",
        "class RNN(nn.Module):\n",
        "  def __init__(self, input_dim, embedding_dim, hidden_dim, output_dim):\n",
        "    super().__init__()\n",
        "    self.embedding = nn.Embedding(input_dim, embedding_dim)\n",
        "    self.rnn = nn.RNN(embedding_dim, hidden_dim)\n",
        "    self.fc = nn.Linear(hidden_dim, output_dim)\n",
        "\n",
        "  def forward(self, text):\n",
        "    embedded = self.embedding(text)\n",
        "    output, hidden = self.rnn(embedded)\n",
        "\n",
        "    assert torch.equal(output[-1,:,:], hidden.squeeze(0))\n",
        "    return self.fc(hidden.squeeze(0))"
      ],
      "metadata": {
        "id": "LPVsNpMJgqiB"
      },
      "execution_count": null,
      "outputs": []
    },
    {
      "cell_type": "code",
      "source": [
        "INPUT_DIM = len(TEXT.vocab)\n",
        "EMBEDDING_DIM = 100\n",
        "HIDDEN_DIM = 256\n",
        "OUTPUT_DIM = 1\n",
        "\n",
        "model = RNN(INPUT_DIM, EMBEDDING_DIM, HIDDEN_DIM, OUTPUT_DIM)\n",
        "\n",
        "def count_parameters(model):\n",
        "  return sum(p.numel() for p in model.parameters() if p.requires_grad)\n",
        "\n",
        "print(f'The model has {count_parameters(model):,} trainable parameters')"
      ],
      "metadata": {
        "colab": {
          "base_uri": "https://localhost:8080/"
        },
        "id": "MwpSsUtdh6t1",
        "outputId": "ee678df1-56a7-4bdf-caaf-b009fb5ab9e2"
      },
      "execution_count": null,
      "outputs": [
        {
          "output_type": "stream",
          "name": "stdout",
          "text": [
            "The model has 2,592,105 trainable parameters\n"
          ]
        }
      ]
    },
    {
      "cell_type": "markdown",
      "source": [
        "# Training and Choosing Optimizer\n",
        "In the below cell, we expirment with two different optimizers: SGD and Adam"
      ],
      "metadata": {
        "id": "k63W1q4QeLpY"
      }
    },
    {
      "cell_type": "code",
      "source": [
        "import torch.optim as optim\n",
        "\n",
        "optimizer = optim.SGD(model.parameters(), lr=1e-3)\n",
        "# optimizer = optim.Adam(model.parameters())\n",
        "\n",
        "criterion = nn.BCEWithLogitsLoss()\n",
        "\n",
        "# put the model and criterion on the GPU (if we have access to on)\n",
        "model = model.to(device)\n",
        "criterion = criterion.to(device)"
      ],
      "metadata": {
        "id": "3C6mG9QMjAoe"
      },
      "execution_count": null,
      "outputs": []
    },
    {
      "cell_type": "markdown",
      "source": [
        "In the following cells, we define a number of functions for obtaining performance metrics."
      ],
      "metadata": {
        "id": "7C8h2WjLIDLV"
      }
    },
    {
      "cell_type": "code",
      "source": [
        "def binary_accuracy(preds, y):\n",
        "  rounded_preds = torch.round(torch.sigmoid(preds))\n",
        "  correct = (rounded_preds == y).float()\n",
        "  acc = correct.sum() / len(correct)\n",
        "  return acc"
      ],
      "metadata": {
        "id": "8P0LG_GGkCKM"
      },
      "execution_count": null,
      "outputs": []
    },
    {
      "cell_type": "code",
      "source": [
        "def getStats(preds, y):\n",
        "\n",
        "  rounded_preds = torch.round(torch.sigmoid(preds))\n",
        "\n",
        "  preds_list = rounded_preds.tolist()\n",
        "  labels = y.tolist()\n",
        "\n",
        "  tp = 0.0\n",
        "  tn = 0.0\n",
        "  fp = 0.0\n",
        "  fn = 0.0\n",
        "\n",
        "  for i in range(len(preds_list)):\n",
        "    if (preds_list[i] == 1 and labels[i] == 1): tp += 1\n",
        "    if (preds_list[i] == 0 and labels[i] == 0): tn += 1\n",
        "    if (preds_list[i] == 1 and labels[i] == 0): fp += 1\n",
        "    if (preds_list[i] == 0 and labels[i] == 1): fn += 1\n",
        "\n",
        "  return tp, tn, fp, fn"
      ],
      "metadata": {
        "id": "YwMUfJ1_4kEl"
      },
      "execution_count": null,
      "outputs": []
    },
    {
      "cell_type": "code",
      "source": [
        "def binary_precision(tp, fp):\n",
        "  if (tp + fp == 0.0): return 0.0\n",
        "  return tp/(tp + fp)"
      ],
      "metadata": {
        "id": "lGbGgAmz684u"
      },
      "execution_count": null,
      "outputs": []
    },
    {
      "cell_type": "code",
      "source": [
        "def binary_recall(tp, fn):\n",
        "  if (tp + fn == 0.0): return 0.0\n",
        "  return tp/(tp + fn)"
      ],
      "metadata": {
        "id": "OczAKND_7OBj"
      },
      "execution_count": null,
      "outputs": []
    },
    {
      "cell_type": "code",
      "source": [
        "def binary_f1(precision, recall):\n",
        "  if (precision + recall == 0.0): return 0.0\n",
        "  return (2 * precision * recall) / (precision + recall)"
      ],
      "metadata": {
        "id": "zeJrCXx07ZS7"
      },
      "execution_count": null,
      "outputs": []
    },
    {
      "cell_type": "code",
      "source": [
        "def train(model, iterator, optimizer, criterion):\n",
        "  epoch_loss = 0\n",
        "  epoch_acc = 0\n",
        "  epoch_prec = 0\n",
        "  epoch_recall = 0\n",
        "  epoch_f1 = 0\n",
        "\n",
        "  model.train()\n",
        "\n",
        "  for batch in iterator:\n",
        "    optimizer.zero_grad()\n",
        "    predictions = model(batch.text).squeeze(1)\n",
        "    loss = criterion(predictions, batch.label)\n",
        "    acc = binary_accuracy(predictions, batch.label)\n",
        "\n",
        "    tp, tn, fp, fn = getStats(predictions, batch.label)\n",
        "    prec = binary_precision(tp, fp)\n",
        "    recall = binary_recall(tp, fn)\n",
        "    f1_score = binary_f1(prec, recall)\n",
        "\n",
        "    loss.backward()\n",
        "\n",
        "    optimizer.step()\n",
        "\n",
        "    epoch_loss += loss.item()\n",
        "    epoch_acc += acc.item()\n",
        "    epoch_prec += prec\n",
        "    epoch_recall += recall\n",
        "    epoch_f1 += f1_score\n",
        "\n",
        "  return epoch_loss / len(iterator), epoch_acc / len(iterator), epoch_prec / len(iterator), epoch_recall / len(iterator), epoch_f1 / len(iterator)"
      ],
      "metadata": {
        "id": "DFJurtEiph6n"
      },
      "execution_count": null,
      "outputs": []
    },
    {
      "cell_type": "code",
      "source": [
        "def evaluate(model, iterator, criterion):\n",
        "  epoch_loss = 0\n",
        "  epoch_acc = 0\n",
        "  epoch_prec = 0\n",
        "  epoch_recall = 0\n",
        "  epoch_f1 = 0\n",
        "  \n",
        "  model.eval()\n",
        "\n",
        "  with torch.no_grad():\n",
        "    for batch in iterator:\n",
        "      predictions = model(batch.text).squeeze(1)\n",
        "      loss = criterion(predictions, batch.label)\n",
        "      acc = binary_accuracy(predictions, batch.label)\n",
        "\n",
        "      tp, tn, fp, fn = getStats(predictions, batch.label)\n",
        "      prec = binary_precision(tp, fp)\n",
        "      recall = binary_recall(tp, fn)\n",
        "      f1_score = binary_f1(prec, recall)\n",
        "\n",
        "      epoch_loss += loss.item()\n",
        "      epoch_acc += acc.item()\n",
        "      epoch_prec += prec\n",
        "      epoch_recall += recall\n",
        "      epoch_f1 += f1_score\n",
        "\n",
        "  return epoch_loss / len(iterator), epoch_acc / len(iterator), epoch_prec / len(iterator), epoch_recall / len(iterator), epoch_f1 / len(iterator)"
      ],
      "metadata": {
        "id": "-hbxoxFCqX93"
      },
      "execution_count": null,
      "outputs": []
    },
    {
      "cell_type": "code",
      "source": [
        "import time\n",
        "\n",
        "def epoch_time(start_time, end_time):\n",
        "  elapsed_time = end_time - start_time\n",
        "  elapsed_mins = int(elapsed_time / 60)\n",
        "  elapsed_secs = int(elapsed_time - (elapsed_mins * 60))\n",
        "  return elapsed_mins, elapsed_secs"
      ],
      "metadata": {
        "id": "7cPHMZVUrV9f"
      },
      "execution_count": null,
      "outputs": []
    },
    {
      "cell_type": "code",
      "source": [
        "N_EPOCHS = 5\n",
        "\n",
        "best_valid_loss = float('inf')\n",
        "\n",
        "for epoch in range(N_EPOCHS):\n",
        "  start_time = time.time()\n",
        "\n",
        "  train_loss, train_acc, train_prec, train_recall, train_f1 = train(model, train_iterator, optimizer, criterion)\n",
        "  valid_loss, valid_acc, valid_prec, valid_recall, valid_f1 = evaluate(model, valid_iterator, criterion)\n",
        "\n",
        "  end_time = time.time()\n",
        "\n",
        "  epoch_mins, epoch_secs = epoch_time(start_time, end_time)\n",
        "\n",
        "  if valid_loss < best_valid_loss:\n",
        "    best_valid_loss = valid_loss\n",
        "    torch.save(model.state_dict(), 'tut1-model.pt')\n",
        "\n",
        "  print(f'Epoch: {epoch+1:02} | Epoch Time: {epoch_mins}m {epoch_secs}s')\n",
        "  print(f'\\tTrain Loss: {train_loss:.3f} | Train Acc: {train_acc*100:.2f}% | Train Prec: {train_prec*100:.2f}% | Test Recall: {train_recall*100:.2f}% | Test F1 Score: {train_f1*100:.2f}%')\n",
        "  print(f'\\t Val. Loss: {valid_loss:.3f} |  Val. Acc: {valid_acc*100:.2f}% | Valid Prec: {valid_prec*100:.2f}% | Valid Recall: {valid_recall*100:.2f}% | Valid F1 Score: {valid_f1*100:.2f}%')"
      ],
      "metadata": {
        "colab": {
          "base_uri": "https://localhost:8080/"
        },
        "id": "21IuWLcwsHjo",
        "outputId": "ea2db237-154e-41c1-c86e-f3ea3dc5b7af"
      },
      "execution_count": null,
      "outputs": [
        {
          "output_type": "stream",
          "name": "stdout",
          "text": [
            "Epoch: 01 | Epoch Time: 0m 10s\n",
            "\tTrain Loss: 0.694 | Train Acc: 50.28% | Train Prec: 42.42% | Test Recall: 39.65% | Test F1 Score: 27.26%\n",
            "\t Val. Loss: 0.697 |  Val. Acc: 50.17% | Valid Prec: 50.57% | Valid Recall: 75.54% | Valid F1 Score: 57.60%\n",
            "Epoch: 02 | Epoch Time: 0m 8s\n",
            "\tTrain Loss: 0.693 | Train Acc: 49.63% | Train Prec: 39.03% | Test Recall: 21.99% | Test F1 Score: 15.49%\n",
            "\t Val. Loss: 0.697 |  Val. Acc: 51.20% | Valid Prec: 51.16% | Valid Recall: 91.16% | Valid F1 Score: 65.15%\n",
            "Epoch: 03 | Epoch Time: 0m 8s\n",
            "\tTrain Loss: 0.693 | Train Acc: 50.03% | Train Prec: 42.10% | Test Recall: 22.83% | Test F1 Score: 16.29%\n",
            "\t Val. Loss: 0.697 |  Val. Acc: 51.27% | Valid Prec: 51.20% | Valid Recall: 91.29% | Valid F1 Score: 65.21%\n",
            "Epoch: 04 | Epoch Time: 0m 8s\n",
            "\tTrain Loss: 0.693 | Train Acc: 49.90% | Train Prec: 42.21% | Test Recall: 23.17% | Test F1 Score: 16.48%\n",
            "\t Val. Loss: 0.697 |  Val. Acc: 49.70% | Valid Prec: 50.44% | Valid Recall: 66.81% | Valid F1 Score: 53.40%\n",
            "Epoch: 05 | Epoch Time: 0m 7s\n",
            "\tTrain Loss: 0.693 | Train Acc: 50.02% | Train Prec: 38.15% | Test Recall: 14.78% | Test F1 Score: 11.04%\n",
            "\t Val. Loss: 0.697 |  Val. Acc: 51.10% | Valid Prec: 51.06% | Valid Recall: 92.66% | Valid F1 Score: 65.46%\n"
          ]
        }
      ]
    },
    {
      "cell_type": "code",
      "source": [
        "model.load_state_dict(torch.load('tut1-model.pt'))\n",
        "test_loss, test_acc, test_prec, test_recall, test_f1 = evaluate(model, test_iterator, criterion)\n",
        "print(f'Test Loss: {test_loss:.3f} | Test Acc: {test_acc*100:.2f}% | Test Prec: {test_prec*100:.2f}% | Test Recall: {test_recall*100:.2f}% | Test F1 Score: {test_f1*100:.2f}%')"
      ],
      "metadata": {
        "colab": {
          "base_uri": "https://localhost:8080/"
        },
        "id": "AfT2hqr0HYuz",
        "outputId": "cbc30c8f-c9b4-4e25-d760-f7745b9a9bdf"
      },
      "execution_count": null,
      "outputs": [
        {
          "output_type": "stream",
          "name": "stdout",
          "text": [
            "Test Loss: 0.710 | Test Acc: 45.08% | Test Prec: 47.95% | Test Recall: 69.95% | Test F1 Score: 52.87%\n"
          ]
        }
      ]
    }
  ]
}